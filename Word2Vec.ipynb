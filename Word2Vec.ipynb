{
 "cells": [
  {
   "cell_type": "code",
   "execution_count": 1,
   "id": "435a7475",
   "metadata": {},
   "outputs": [
    {
     "name": "stderr",
     "output_type": "stream",
     "text": [
      "[nltk_data] Downloading package punkt to\n",
      "[nltk_data]     C:\\Users\\e2002\\AppData\\Roaming\\nltk_data...\n",
      "[nltk_data]   Package punkt is already up-to-date!\n"
     ]
    }
   ],
   "source": [
    "from gensim.models import Word2Vec\n",
    "import pandas as pd\n",
    "import nltk\n",
    "from nltk.tokenize import word_tokenize\n",
    "import numpy as np\n",
    "\n",
    "nltk.download('punkt')\n",
    "\n",
    "data = pd.DataFrame({\n",
    "    'headline': [\n",
    "        \"Government unveils new economic policy\",\n",
    "        \"Sports team wins national championship\",\n",
    "        \"Weather alert issued for coastal regions\",\n",
    "        \"Tech company launches innovative product\",\n",
    "        \"Healthcare advances boost recovery rates\"\n",
    "    ]\n",
    "})\n",
    "\n",
    "# Tokenize each headline\n",
    "tokenized_headlines = [word_tokenize(h.lower()) for h in data['headline']]\n",
    "\n",
    "model = Word2Vec(\n",
    "    sentences = tokenized_headlines,\n",
    "    vector_size = 100,    # Dimensionality of embeddings\n",
    "    window = 5,           # Context window size\n",
    "    min_count = 1,        # Minimum word frequency\n",
    "    workers = 4,          # Number of threads\n",
    "    sg = 1                # Skip-gram model (sg=0 for CBOW)\n",
    ")\n",
    "\n",
    "def get_avg_vector(tokens, model):\n",
    "    vectors = [model.wv[word] for word in tokens if word in model.wv]\n",
    "    return np.mean(vectors, axis=0) if vectors else np.zeros(model.vector_size)\n",
    "\n",
    "data['vector'] = tokenized_headlines\n",
    "data['vector'] = data['vector'].apply(lambda tokens: get_avg_vector(tokens, model))"
   ]
  }
 ],
 "metadata": {
  "kernelspec": {
   "display_name": "venv (3.12.4)",
   "language": "python",
   "name": "python3"
  },
  "language_info": {
   "codemirror_mode": {
    "name": "ipython",
    "version": 3
   },
   "file_extension": ".py",
   "mimetype": "text/x-python",
   "name": "python",
   "nbconvert_exporter": "python",
   "pygments_lexer": "ipython3",
   "version": "3.12.4"
  }
 },
 "nbformat": 4,
 "nbformat_minor": 5
}
